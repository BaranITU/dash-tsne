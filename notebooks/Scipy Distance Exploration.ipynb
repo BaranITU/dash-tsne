{
 "cells": [
  {
   "cell_type": "code",
   "execution_count": 62,
   "metadata": {},
   "outputs": [],
   "source": [
    "from scipy.spatial import distance\n",
    "import pandas as pd\n",
    "import numpy as np"
   ]
  },
  {
   "cell_type": "markdown",
   "metadata": {},
   "source": [
    "## Exploring Wikipedia Distance"
   ]
  },
  {
   "cell_type": "code",
   "execution_count": 20,
   "metadata": {},
   "outputs": [],
   "source": [
    "def compare(df, val1, val2):\n",
    "    return distance.euclidean(df.loc[val1], df.loc[val2])"
   ]
  },
  {
   "cell_type": "markdown",
   "metadata": {},
   "source": [
    "### 3D embedding distances"
   ]
  },
  {
   "cell_type": "code",
   "execution_count": 3,
   "metadata": {},
   "outputs": [
    {
     "data": {
      "text/html": [
       "<div>\n",
       "<style>\n",
       "    .dataframe thead tr:only-child th {\n",
       "        text-align: right;\n",
       "    }\n",
       "\n",
       "    .dataframe thead th {\n",
       "        text-align: left;\n",
       "    }\n",
       "\n",
       "    .dataframe tbody tr th {\n",
       "        vertical-align: top;\n",
       "    }\n",
       "</style>\n",
       "<table border=\"1\" class=\"dataframe\">\n",
       "  <thead>\n",
       "    <tr style=\"text-align: right;\">\n",
       "      <th></th>\n",
       "      <th>x</th>\n",
       "      <th>y</th>\n",
       "      <th>z</th>\n",
       "    </tr>\n",
       "  </thead>\n",
       "  <tbody>\n",
       "    <tr>\n",
       "      <th>the</th>\n",
       "      <td>0.010972</td>\n",
       "      <td>-0.019077</td>\n",
       "      <td>0.048307</td>\n",
       "    </tr>\n",
       "    <tr>\n",
       "      <th>of</th>\n",
       "      <td>-0.002067</td>\n",
       "      <td>-0.020699</td>\n",
       "      <td>0.039711</td>\n",
       "    </tr>\n",
       "    <tr>\n",
       "      <th>to</th>\n",
       "      <td>0.033334</td>\n",
       "      <td>-0.866722</td>\n",
       "      <td>-0.153900</td>\n",
       "    </tr>\n",
       "    <tr>\n",
       "      <th>and</th>\n",
       "      <td>-0.109757</td>\n",
       "      <td>-0.033040</td>\n",
       "      <td>0.008450</td>\n",
       "    </tr>\n",
       "    <tr>\n",
       "      <th>in</th>\n",
       "      <td>0.186069</td>\n",
       "      <td>-0.003899</td>\n",
       "      <td>0.181199</td>\n",
       "    </tr>\n",
       "  </tbody>\n",
       "</table>\n",
       "</div>"
      ],
      "text/plain": [
       "            x         y         z\n",
       "the  0.010972 -0.019077  0.048307\n",
       "of  -0.002067 -0.020699  0.039711\n",
       "to   0.033334 -0.866722 -0.153900\n",
       "and -0.109757 -0.033040  0.008450\n",
       "in   0.186069 -0.003899  0.181199"
      ]
     },
     "execution_count": 3,
     "metadata": {},
     "output_type": "execute_result"
    }
   ],
   "source": [
    "# Load the wikipedia data in memory\n",
    "path = '../demo_embeddings/wikipedia_3000/iterations_250/perplexity_3/pca_25/learning_rate_10'\n",
    "embedding_df = pd.read_csv(path + f'/data.csv', index_col=0)\n",
    "embedding_df.head()"
   ]
  },
  {
   "cell_type": "code",
   "execution_count": 24,
   "metadata": {},
   "outputs": [
    {
     "name": "stdout",
     "output_type": "stream",
     "text": [
      "the vs of: 0.01570124387892331\n",
      "of vs to: 0.8686157619115147\n"
     ]
    }
   ],
   "source": [
    "print(\"the vs of:\", compare(embedding_df, 'the', 'of'))\n",
    "print(\"of vs to:\", compare(embedding_df, 'to', 'of'))"
   ]
  },
  {
   "cell_type": "markdown",
   "metadata": {},
   "source": [
    "### Original Embeddings distances"
   ]
  },
  {
   "cell_type": "code",
   "execution_count": 17,
   "metadata": {},
   "outputs": [
    {
     "data": {
      "text/html": [
       "<div>\n",
       "<style>\n",
       "    .dataframe thead tr:only-child th {\n",
       "        text-align: right;\n",
       "    }\n",
       "\n",
       "    .dataframe thead th {\n",
       "        text-align: left;\n",
       "    }\n",
       "\n",
       "    .dataframe tbody tr th {\n",
       "        vertical-align: top;\n",
       "    }\n",
       "</style>\n",
       "<table border=\"1\" class=\"dataframe\">\n",
       "  <thead>\n",
       "    <tr style=\"text-align: right;\">\n",
       "      <th></th>\n",
       "      <th>1</th>\n",
       "      <th>2</th>\n",
       "      <th>3</th>\n",
       "      <th>4</th>\n",
       "      <th>5</th>\n",
       "      <th>6</th>\n",
       "      <th>7</th>\n",
       "      <th>8</th>\n",
       "      <th>9</th>\n",
       "      <th>10</th>\n",
       "      <th>...</th>\n",
       "      <th>291</th>\n",
       "      <th>292</th>\n",
       "      <th>293</th>\n",
       "      <th>294</th>\n",
       "      <th>295</th>\n",
       "      <th>296</th>\n",
       "      <th>297</th>\n",
       "      <th>298</th>\n",
       "      <th>299</th>\n",
       "      <th>300</th>\n",
       "    </tr>\n",
       "    <tr>\n",
       "      <th>0</th>\n",
       "      <th></th>\n",
       "      <th></th>\n",
       "      <th></th>\n",
       "      <th></th>\n",
       "      <th></th>\n",
       "      <th></th>\n",
       "      <th></th>\n",
       "      <th></th>\n",
       "      <th></th>\n",
       "      <th></th>\n",
       "      <th></th>\n",
       "      <th></th>\n",
       "      <th></th>\n",
       "      <th></th>\n",
       "      <th></th>\n",
       "      <th></th>\n",
       "      <th></th>\n",
       "      <th></th>\n",
       "      <th></th>\n",
       "      <th></th>\n",
       "      <th></th>\n",
       "    </tr>\n",
       "  </thead>\n",
       "  <tbody>\n",
       "    <tr>\n",
       "      <th>the</th>\n",
       "      <td>0.046560</td>\n",
       "      <td>0.213180</td>\n",
       "      <td>-0.007436</td>\n",
       "      <td>-0.45854</td>\n",
       "      <td>-0.035639</td>\n",
       "      <td>0.236430</td>\n",
       "      <td>-0.288360</td>\n",
       "      <td>0.215210</td>\n",
       "      <td>-0.134860</td>\n",
       "      <td>-1.6413</td>\n",
       "      <td>...</td>\n",
       "      <td>-0.013064</td>\n",
       "      <td>-0.296860</td>\n",
       "      <td>-0.079913</td>\n",
       "      <td>0.195000</td>\n",
       "      <td>0.031549</td>\n",
       "      <td>0.285060</td>\n",
       "      <td>-0.087461</td>\n",
       "      <td>0.009061</td>\n",
       "      <td>-0.209890</td>\n",
       "      <td>0.053913</td>\n",
       "    </tr>\n",
       "    <tr>\n",
       "      <th>of</th>\n",
       "      <td>-0.076947</td>\n",
       "      <td>-0.021211</td>\n",
       "      <td>0.212710</td>\n",
       "      <td>-0.72232</td>\n",
       "      <td>-0.139880</td>\n",
       "      <td>-0.122340</td>\n",
       "      <td>-0.175210</td>\n",
       "      <td>0.121370</td>\n",
       "      <td>-0.070866</td>\n",
       "      <td>-1.5721</td>\n",
       "      <td>...</td>\n",
       "      <td>-0.366730</td>\n",
       "      <td>-0.386030</td>\n",
       "      <td>0.302900</td>\n",
       "      <td>0.015747</td>\n",
       "      <td>0.340360</td>\n",
       "      <td>0.478410</td>\n",
       "      <td>0.068617</td>\n",
       "      <td>0.183510</td>\n",
       "      <td>-0.291830</td>\n",
       "      <td>-0.046533</td>\n",
       "    </tr>\n",
       "    <tr>\n",
       "      <th>to</th>\n",
       "      <td>-0.257560</td>\n",
       "      <td>-0.057132</td>\n",
       "      <td>-0.671900</td>\n",
       "      <td>-0.38082</td>\n",
       "      <td>-0.364210</td>\n",
       "      <td>-0.082155</td>\n",
       "      <td>-0.010955</td>\n",
       "      <td>-0.082047</td>\n",
       "      <td>0.460560</td>\n",
       "      <td>-1.8477</td>\n",
       "      <td>...</td>\n",
       "      <td>-0.012806</td>\n",
       "      <td>-0.597070</td>\n",
       "      <td>0.317340</td>\n",
       "      <td>-0.252670</td>\n",
       "      <td>0.543840</td>\n",
       "      <td>0.063007</td>\n",
       "      <td>-0.049795</td>\n",
       "      <td>-0.160430</td>\n",
       "      <td>0.046744</td>\n",
       "      <td>-0.070621</td>\n",
       "    </tr>\n",
       "    <tr>\n",
       "      <th>and</th>\n",
       "      <td>0.038466</td>\n",
       "      <td>-0.039792</td>\n",
       "      <td>0.082747</td>\n",
       "      <td>-0.38923</td>\n",
       "      <td>-0.214310</td>\n",
       "      <td>0.170200</td>\n",
       "      <td>-0.025657</td>\n",
       "      <td>0.095780</td>\n",
       "      <td>0.238600</td>\n",
       "      <td>-1.6342</td>\n",
       "      <td>...</td>\n",
       "      <td>0.045194</td>\n",
       "      <td>-0.204050</td>\n",
       "      <td>-0.210970</td>\n",
       "      <td>-0.110250</td>\n",
       "      <td>0.021766</td>\n",
       "      <td>0.441290</td>\n",
       "      <td>0.327970</td>\n",
       "      <td>-0.334270</td>\n",
       "      <td>0.011807</td>\n",
       "      <td>0.059703</td>\n",
       "    </tr>\n",
       "    <tr>\n",
       "      <th>in</th>\n",
       "      <td>-0.443990</td>\n",
       "      <td>0.128170</td>\n",
       "      <td>-0.252470</td>\n",
       "      <td>-0.18582</td>\n",
       "      <td>-0.166140</td>\n",
       "      <td>0.259090</td>\n",
       "      <td>-0.226780</td>\n",
       "      <td>-0.069229</td>\n",
       "      <td>-0.077204</td>\n",
       "      <td>-1.5814</td>\n",
       "      <td>...</td>\n",
       "      <td>-0.274500</td>\n",
       "      <td>-0.037237</td>\n",
       "      <td>0.101040</td>\n",
       "      <td>0.107980</td>\n",
       "      <td>0.377270</td>\n",
       "      <td>0.879770</td>\n",
       "      <td>0.335830</td>\n",
       "      <td>-0.200430</td>\n",
       "      <td>-0.082191</td>\n",
       "      <td>-0.062550</td>\n",
       "    </tr>\n",
       "  </tbody>\n",
       "</table>\n",
       "<p>5 rows × 300 columns</p>\n",
       "</div>"
      ],
      "text/plain": [
       "            1         2         3        4         5         6         7  \\\n",
       "0                                                                          \n",
       "the  0.046560  0.213180 -0.007436 -0.45854 -0.035639  0.236430 -0.288360   \n",
       "of  -0.076947 -0.021211  0.212710 -0.72232 -0.139880 -0.122340 -0.175210   \n",
       "to  -0.257560 -0.057132 -0.671900 -0.38082 -0.364210 -0.082155 -0.010955   \n",
       "and  0.038466 -0.039792  0.082747 -0.38923 -0.214310  0.170200 -0.025657   \n",
       "in  -0.443990  0.128170 -0.252470 -0.18582 -0.166140  0.259090 -0.226780   \n",
       "\n",
       "            8         9      10    ...          291       292       293  \\\n",
       "0                                  ...                                    \n",
       "the  0.215210 -0.134860 -1.6413    ...    -0.013064 -0.296860 -0.079913   \n",
       "of   0.121370 -0.070866 -1.5721    ...    -0.366730 -0.386030  0.302900   \n",
       "to  -0.082047  0.460560 -1.8477    ...    -0.012806 -0.597070  0.317340   \n",
       "and  0.095780  0.238600 -1.6342    ...     0.045194 -0.204050 -0.210970   \n",
       "in  -0.069229 -0.077204 -1.5814    ...    -0.274500 -0.037237  0.101040   \n",
       "\n",
       "          294       295       296       297       298       299       300  \n",
       "0                                                                          \n",
       "the  0.195000  0.031549  0.285060 -0.087461  0.009061 -0.209890  0.053913  \n",
       "of   0.015747  0.340360  0.478410  0.068617  0.183510 -0.291830 -0.046533  \n",
       "to  -0.252670  0.543840  0.063007 -0.049795 -0.160430  0.046744 -0.070621  \n",
       "and -0.110250  0.021766  0.441290  0.327970 -0.334270  0.011807  0.059703  \n",
       "in   0.107980  0.377270  0.879770  0.335830 -0.200430 -0.082191 -0.062550  \n",
       "\n",
       "[5 rows x 300 columns]"
      ]
     },
     "execution_count": 17,
     "metadata": {},
     "output_type": "execute_result"
    }
   ],
   "source": [
    "glove_df = pd.read_csv(\"../data/wikipedia_3000.csv\", index_col=0)\n",
    "glove_df.head()"
   ]
  },
  {
   "cell_type": "code",
   "execution_count": 27,
   "metadata": {},
   "outputs": [
    {
     "name": "stdout",
     "output_type": "stream",
     "text": [
      "Euclidean distances for Original 300D Glove embeddings:\n",
      "the, of: 4.08706684721173\n",
      "of, to: 6.035719708879699\n"
     ]
    }
   ],
   "source": [
    "print(\"Euclidean distances for Original 300D Glove embeddings:\")\n",
    "print(\"the, of:\", compare(glove_df, 'the', 'of'))\n",
    "print(\"of, to:\", compare(glove_df, 'to', 'of'))"
   ]
  },
  {
   "cell_type": "markdown",
   "metadata": {},
   "source": [
    "### Speed comparison, 3D vs original"
   ]
  },
  {
   "cell_type": "code",
   "execution_count": 31,
   "metadata": {},
   "outputs": [
    {
     "name": "stdout",
     "output_type": "stream",
     "text": [
      "Speed for 3D Embedding:\n",
      "324 µs ± 44.3 µs per loop (mean ± std. dev. of 7 runs, 1000 loops each)\n",
      "\n",
      "Speed for original Embedding (300D):\n",
      "321 µs ± 33.7 µs per loop (mean ± std. dev. of 7 runs, 1000 loops each)\n"
     ]
    }
   ],
   "source": [
    "print(\"Speed for 3D Embedding:\")\n",
    "%timeit compare(embedding_df, 'the', 'of')\n",
    "print(\"\\nSpeed for original Embedding (300D):\")\n",
    "%timeit compare(glove_df, 'the', 'of')"
   ]
  },
  {
   "cell_type": "code",
   "execution_count": 32,
   "metadata": {},
   "outputs": [
    {
     "name": "stdout",
     "output_type": "stream",
     "text": [
      "Speed for 3D Embedding:\n",
      "296 µs ± 37.1 µs per loop (mean ± std. dev. of 7 runs, 1000 loops each)\n",
      "\n",
      "Speed for original Embedding (300D):\n",
      "304 µs ± 27.4 µs per loop (mean ± std. dev. of 7 runs, 1000 loops each)\n"
     ]
    }
   ],
   "source": [
    "print(\"Speed for 3D Embedding:\")\n",
    "%timeit compare(embedding_df, 'to', 'of')\n",
    "print(\"\\nSpeed for original Embedding (300D):\")\n",
    "%timeit compare(glove_df, 'to', 'of')"
   ]
  },
  {
   "cell_type": "markdown",
   "metadata": {},
   "source": [
    "We can see that the speeds are very similar to each other, and the computation is very efficient (less than a ms)"
   ]
  },
  {
   "cell_type": "code",
   "execution_count": 86,
   "metadata": {},
   "outputs": [
    {
     "name": "stdout",
     "output_type": "stream",
     "text": [
      "198 ms ± 15 ms per loop (mean ± std. dev. of 7 runs, 10 loops each)\n",
      "(3000,)\n"
     ]
    },
    {
     "data": {
      "text/plain": [
       "0\n",
       "the    6.498628\n",
       "of     6.774521\n",
       "to     6.892077\n",
       "and    6.457886\n",
       "in     6.284315\n",
       "dtype: float64"
      ]
     },
     "execution_count": 86,
     "metadata": {},
     "output_type": "execute_result"
    }
   ],
   "source": [
    "selected_word = 'united'\n",
    "selected_vec = glove_df.loc[selected_word]\n",
    "word_dict = pd.DataFrame(glove_df.index)\n",
    "\n",
    "def compare_pd(vector):\n",
    "    return distance.euclidean(vector, selected_vec)\n",
    "\n",
    "%timeit glove_df.apply(compare_pd, axis=1)\n",
    "distance_map = glove_df.apply(compare_pd, axis=1)\n",
    "print(distance_map.shape)\n",
    "distance_map.head()"
   ]
  },
  {
   "cell_type": "markdown",
   "metadata": {},
   "source": [
    "This returns exactly what we want, which is a list of all the distances a certain word, in our case 'the', and does so in a reasonable amount of time."
   ]
  },
  {
   "cell_type": "code",
   "execution_count": 87,
   "metadata": {},
   "outputs": [
    {
     "name": "stdout",
     "output_type": "stream",
     "text": [
      "155 ms ± 8.24 ms per loop (mean ± std. dev. of 7 runs, 10 loops each)\n"
     ]
    },
    {
     "data": {
      "text/plain": [
       "the    2.121015\n",
       "of     2.128318\n",
       "to     2.759959\n",
       "and    2.199864\n",
       "in     2.042792\n",
       "dtype: float64"
      ]
     },
     "execution_count": 87,
     "metadata": {},
     "output_type": "execute_result"
    }
   ],
   "source": [
    "selected_word = 'united'\n",
    "selected_vec = embedding_df.loc[selected_word]\n",
    "\n",
    "def compare_pd(vector):\n",
    "    return distance.euclidean(vector, selected_vec)\n",
    "\n",
    "%timeit embedding_df.apply(compare_pd, axis=1)\n",
    "distance_map_3d = embedding_df.apply(compare_pd, axis=1)\n",
    "distance_map_3d.head()"
   ]
  },
  {
   "cell_type": "markdown",
   "metadata": {},
   "source": [
    "We again notice similar performance for the 3D embedding. Therefore there's no good reason to use this one in particular, since the original embedding captures the distribution better in any case."
   ]
  },
  {
   "cell_type": "markdown",
   "metadata": {},
   "source": [
    "### Testing preprocessing"
   ]
  },
  {
   "cell_type": "code",
   "execution_count": 90,
   "metadata": {
    "scrolled": true
   },
   "outputs": [
    {
     "data": {
      "text/plain": [
       "0\n",
       "united           0.000000\n",
       "states           3.213737\n",
       "u.s.             5.808629\n",
       "both             6.013402\n",
       "nations          6.068058\n",
       "although         6.113164\n",
       "america          6.171285\n",
       "also             6.199050\n",
       "already          6.251269\n",
       "which            6.252895\n",
       "in               6.284315\n",
       "american         6.286174\n",
       "however          6.295584\n",
       "now              6.299501\n",
       "while            6.316134\n",
       "but              6.349286\n",
       "only             6.352042\n",
       "though           6.388109\n",
       "well             6.397458\n",
       "as               6.403575\n",
       "washington       6.445161\n",
       "and              6.457886\n",
       "same             6.470125\n",
       "join             6.491023\n",
       "despite          6.494019\n",
       "the              6.498628\n",
       "meanwhile        6.500599\n",
       "americans        6.502239\n",
       "addition         6.512599\n",
       "example          6.523228\n",
       "                  ...    \n",
       "trim            10.065186\n",
       "optional        10.083921\n",
       "bowl            10.084070\n",
       "del             10.095619\n",
       "rep.            10.106383\n",
       "municipality    10.112696\n",
       "inflation       10.135611\n",
       "province        10.173016\n",
       "analyst         10.179240\n",
       "gmt             10.198720\n",
       "shiite          10.212658\n",
       "dow             10.234507\n",
       "r               10.257934\n",
       "yards           10.258608\n",
       "yuan            10.283989\n",
       "de              10.288771\n",
       "degrees         10.332556\n",
       "windows         10.344554\n",
       "earthquake      10.344882\n",
       "benchmark       10.423606\n",
       "km              10.423719\n",
       "cells           10.603825\n",
       "cents           10.629923\n",
       "futures         10.643289\n",
       "innings         10.980563\n",
       "median          11.102028\n",
       "yen             11.173048\n",
       "index           11.294821\n",
       "mm              11.516566\n",
       "ah              11.592914\n",
       "Length: 3000, dtype: float64"
      ]
     },
     "execution_count": 90,
     "metadata": {},
     "output_type": "execute_result"
    }
   ],
   "source": [
    "sorted_map = distance_map.sort_values()\n",
    "sorted_map"
   ]
  },
  {
   "cell_type": "code",
   "execution_count": 89,
   "metadata": {
    "scrolled": true
   },
   "outputs": [
    {
     "data": {
      "text/plain": [
       "united         0.000000\n",
       "states         0.007371\n",
       "australian     0.032252\n",
       "canadian       0.064197\n",
       "indian         0.076431\n",
       "african        0.084495\n",
       "mexican        0.089349\n",
       "british        0.105448\n",
       "american       0.112825\n",
       "zealand        0.117893\n",
       "vietnam        0.119781\n",
       "europe         0.131286\n",
       "australia      0.141201\n",
       "brazilian      0.141710\n",
       "korean         0.149245\n",
       "japanese       0.152028\n",
       "chinese        0.155905\n",
       "korea          0.157681\n",
       "japan          0.158535\n",
       "swiss          0.158535\n",
       "swedish        0.162122\n",
       "philippines    0.162242\n",
       "european       0.162300\n",
       "canada         0.163285\n",
       "italian        0.165823\n",
       "philippine     0.166912\n",
       "spanish        0.166999\n",
       "dutch          0.167640\n",
       "africa         0.170548\n",
       "thai           0.173024\n",
       "                 ...   \n",
       "trading        3.773671\n",
       "shares         3.774356\n",
       "jan.           3.774899\n",
       "scheduled      3.776306\n",
       "you            3.777855\n",
       "dollar         3.782783\n",
       "prices         3.783643\n",
       "stocks         3.799382\n",
       "yen            3.808897\n",
       "million        3.814492\n",
       "dlrs           3.821976\n",
       "euros          3.829617\n",
       "futures        3.829961\n",
       "yuan           3.836463\n",
       "dollars        3.838485\n",
       "billion        3.840909\n",
       "dow            3.844121\n",
       "benchmark      3.856934\n",
       "index          3.866907\n",
       "march          4.007509\n",
       "june           4.032133\n",
       "april          4.032213\n",
       "november       4.040644\n",
       "july           4.042093\n",
       "january        4.053507\n",
       "february       4.058215\n",
       "december       4.064409\n",
       "october        4.066517\n",
       "september      4.073230\n",
       "august         4.076707\n",
       "Length: 3000, dtype: float64"
      ]
     },
     "execution_count": 89,
     "metadata": {},
     "output_type": "execute_result"
    }
   ],
   "source": [
    "sorted_3d_map = distance_map_3d.sort_values()\n",
    "sorted_3d_map"
   ]
  },
  {
   "cell_type": "code",
   "execution_count": null,
   "metadata": {},
   "outputs": [],
   "source": []
  }
 ],
 "metadata": {
  "kernelspec": {
   "display_name": "Python 3",
   "language": "python",
   "name": "python3"
  },
  "language_info": {
   "codemirror_mode": {
    "name": "ipython",
    "version": 3
   },
   "file_extension": ".py",
   "mimetype": "text/x-python",
   "name": "python",
   "nbconvert_exporter": "python",
   "pygments_lexer": "ipython3",
   "version": "3.6.3"
  }
 },
 "nbformat": 4,
 "nbformat_minor": 2
}
