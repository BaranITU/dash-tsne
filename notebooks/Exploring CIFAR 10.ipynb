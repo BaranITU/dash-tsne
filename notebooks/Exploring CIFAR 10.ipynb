{
 "cells": [
  {
   "cell_type": "code",
   "execution_count": 17,
   "metadata": {},
   "outputs": [
    {
     "name": "stderr",
     "output_type": "stream",
     "text": [
      "Using TensorFlow backend.\n"
     ]
    }
   ],
   "source": [
    "import numpy as np\n",
    "import pandas as pd\n",
    "from PIL import Image\n",
    "from skimage.color import rgb2gray\n",
    "\n",
    "from keras.datasets import *"
   ]
  },
  {
   "cell_type": "code",
   "execution_count": 4,
   "metadata": {},
   "outputs": [
    {
     "data": {
      "text/html": [
       "<div>\n",
       "<style>\n",
       "    .dataframe thead tr:only-child th {\n",
       "        text-align: right;\n",
       "    }\n",
       "\n",
       "    .dataframe thead th {\n",
       "        text-align: left;\n",
       "    }\n",
       "\n",
       "    .dataframe tbody tr th {\n",
       "        vertical-align: top;\n",
       "    }\n",
       "</style>\n",
       "<table border=\"1\" class=\"dataframe\">\n",
       "  <thead>\n",
       "    <tr style=\"text-align: right;\">\n",
       "      <th></th>\n",
       "      <th>0</th>\n",
       "      <th>1</th>\n",
       "      <th>2</th>\n",
       "      <th>3</th>\n",
       "      <th>4</th>\n",
       "      <th>5</th>\n",
       "      <th>6</th>\n",
       "      <th>7</th>\n",
       "      <th>8</th>\n",
       "      <th>9</th>\n",
       "      <th>...</th>\n",
       "      <th>1014</th>\n",
       "      <th>1015</th>\n",
       "      <th>1016</th>\n",
       "      <th>1017</th>\n",
       "      <th>1018</th>\n",
       "      <th>1019</th>\n",
       "      <th>1020</th>\n",
       "      <th>1021</th>\n",
       "      <th>1022</th>\n",
       "      <th>1023</th>\n",
       "    </tr>\n",
       "  </thead>\n",
       "  <tbody>\n",
       "    <tr>\n",
       "      <th>0</th>\n",
       "      <td>0.002113</td>\n",
       "      <td>0.002093</td>\n",
       "      <td>0.002101</td>\n",
       "      <td>0.002093</td>\n",
       "      <td>0.002088</td>\n",
       "      <td>0.002088</td>\n",
       "      <td>0.002088</td>\n",
       "      <td>0.002088</td>\n",
       "      <td>0.002097</td>\n",
       "      <td>0.002103</td>\n",
       "      <td>...</td>\n",
       "      <td>0.001971</td>\n",
       "      <td>0.001265</td>\n",
       "      <td>0.001164</td>\n",
       "      <td>0.001768</td>\n",
       "      <td>0.002031</td>\n",
       "      <td>0.002089</td>\n",
       "      <td>0.001811</td>\n",
       "      <td>0.001891</td>\n",
       "      <td>0.001895</td>\n",
       "      <td>0.001905</td>\n",
       "    </tr>\n",
       "    <tr>\n",
       "      <th>1</th>\n",
       "      <td>0.001950</td>\n",
       "      <td>0.002068</td>\n",
       "      <td>0.002245</td>\n",
       "      <td>0.002319</td>\n",
       "      <td>0.002329</td>\n",
       "      <td>0.002391</td>\n",
       "      <td>0.002494</td>\n",
       "      <td>0.002584</td>\n",
       "      <td>0.002628</td>\n",
       "      <td>0.002698</td>\n",
       "      <td>...</td>\n",
       "      <td>0.002093</td>\n",
       "      <td>0.002113</td>\n",
       "      <td>0.002064</td>\n",
       "      <td>0.002018</td>\n",
       "      <td>0.002056</td>\n",
       "      <td>0.002052</td>\n",
       "      <td>0.002002</td>\n",
       "      <td>0.002016</td>\n",
       "      <td>0.002077</td>\n",
       "      <td>0.002073</td>\n",
       "    </tr>\n",
       "    <tr>\n",
       "      <th>2</th>\n",
       "      <td>0.002663</td>\n",
       "      <td>0.002597</td>\n",
       "      <td>0.002564</td>\n",
       "      <td>0.002564</td>\n",
       "      <td>0.002565</td>\n",
       "      <td>0.002564</td>\n",
       "      <td>0.002563</td>\n",
       "      <td>0.002552</td>\n",
       "      <td>0.002549</td>\n",
       "      <td>0.002552</td>\n",
       "      <td>...</td>\n",
       "      <td>0.002532</td>\n",
       "      <td>0.002517</td>\n",
       "      <td>0.002517</td>\n",
       "      <td>0.002517</td>\n",
       "      <td>0.002517</td>\n",
       "      <td>0.002517</td>\n",
       "      <td>0.002506</td>\n",
       "      <td>0.002502</td>\n",
       "      <td>0.002521</td>\n",
       "      <td>0.002555</td>\n",
       "    </tr>\n",
       "    <tr>\n",
       "      <th>3</th>\n",
       "      <td>0.001456</td>\n",
       "      <td>0.001413</td>\n",
       "      <td>0.001397</td>\n",
       "      <td>0.001356</td>\n",
       "      <td>0.001341</td>\n",
       "      <td>0.001319</td>\n",
       "      <td>0.001308</td>\n",
       "      <td>0.001305</td>\n",
       "      <td>0.001305</td>\n",
       "      <td>0.001320</td>\n",
       "      <td>...</td>\n",
       "      <td>0.001404</td>\n",
       "      <td>0.001575</td>\n",
       "      <td>0.001632</td>\n",
       "      <td>0.001697</td>\n",
       "      <td>0.001764</td>\n",
       "      <td>0.001783</td>\n",
       "      <td>0.001840</td>\n",
       "      <td>0.001844</td>\n",
       "      <td>0.001775</td>\n",
       "      <td>0.001728</td>\n",
       "    </tr>\n",
       "    <tr>\n",
       "      <th>4</th>\n",
       "      <td>0.001058</td>\n",
       "      <td>0.001040</td>\n",
       "      <td>0.001163</td>\n",
       "      <td>0.001143</td>\n",
       "      <td>0.000799</td>\n",
       "      <td>0.001044</td>\n",
       "      <td>0.000784</td>\n",
       "      <td>0.000740</td>\n",
       "      <td>0.000898</td>\n",
       "      <td>0.000710</td>\n",
       "      <td>...</td>\n",
       "      <td>0.001160</td>\n",
       "      <td>0.001338</td>\n",
       "      <td>0.001477</td>\n",
       "      <td>0.001339</td>\n",
       "      <td>0.001156</td>\n",
       "      <td>0.001232</td>\n",
       "      <td>0.001074</td>\n",
       "      <td>0.000956</td>\n",
       "      <td>0.000973</td>\n",
       "      <td>0.001217</td>\n",
       "    </tr>\n",
       "  </tbody>\n",
       "</table>\n",
       "<p>5 rows × 1024 columns</p>\n",
       "</div>"
      ],
      "text/plain": [
       "          0         1         2         3         4         5         6  \\\n",
       "0  0.002113  0.002093  0.002101  0.002093  0.002088  0.002088  0.002088   \n",
       "1  0.001950  0.002068  0.002245  0.002319  0.002329  0.002391  0.002494   \n",
       "2  0.002663  0.002597  0.002564  0.002564  0.002565  0.002564  0.002563   \n",
       "3  0.001456  0.001413  0.001397  0.001356  0.001341  0.001319  0.001308   \n",
       "4  0.001058  0.001040  0.001163  0.001143  0.000799  0.001044  0.000784   \n",
       "\n",
       "          7         8         9    ...         1014      1015      1016  \\\n",
       "0  0.002088  0.002097  0.002103    ...     0.001971  0.001265  0.001164   \n",
       "1  0.002584  0.002628  0.002698    ...     0.002093  0.002113  0.002064   \n",
       "2  0.002552  0.002549  0.002552    ...     0.002532  0.002517  0.002517   \n",
       "3  0.001305  0.001305  0.001320    ...     0.001404  0.001575  0.001632   \n",
       "4  0.000740  0.000898  0.000710    ...     0.001160  0.001338  0.001477   \n",
       "\n",
       "       1017      1018      1019      1020      1021      1022      1023  \n",
       "0  0.001768  0.002031  0.002089  0.001811  0.001891  0.001895  0.001905  \n",
       "1  0.002018  0.002056  0.002052  0.002002  0.002016  0.002077  0.002073  \n",
       "2  0.002517  0.002517  0.002517  0.002506  0.002502  0.002521  0.002555  \n",
       "3  0.001697  0.001764  0.001783  0.001840  0.001844  0.001775  0.001728  \n",
       "4  0.001339  0.001156  0.001232  0.001074  0.000956  0.000973  0.001217  \n",
       "\n",
       "[5 rows x 1024 columns]"
      ]
     },
     "execution_count": 4,
     "metadata": {},
     "output_type": "execute_result"
    }
   ],
   "source": [
    "df = pd.read_csv(\"../data/cifar_gray_3000_input.csv\")\n",
    "df.head()"
   ]
  },
  {
   "cell_type": "code",
   "execution_count": 15,
   "metadata": {},
   "outputs": [
    {
     "data": {
      "image/png": "[encoded data removed]",
      "text/plain": [
       "<PIL.Image.Image image mode=L size=32x32 at 0x1ABB065F4A8>"
      ]
     },
     "execution_count": 15,
     "metadata": {},
     "output_type": "execute_result"
    }
   ],
   "source": [
    "image_np = df.iloc[0].values.reshape(32,32)\n",
    "im_pil = Image.fromarray(np.uint8(255*image_np))\n",
    "im_pil"
   ]
  },
  {
   "cell_type": "code",
   "execution_count": 47,
   "metadata": {},
   "outputs": [
    {
     "data": {
      "image/png": "[encoded data removed]",
      "text/plain": [
       "<PIL.Image.Image image mode=RGB size=32x32 at 0x1ABC2FCB518>"
      ]
     },
     "execution_count": 47,
     "metadata": {},
     "output_type": "execute_result"
    }
   ],
   "source": [
    "X, y = cifar10.load_data()[0]\n",
    "X = np.moveaxis(X, 1, 3)\n",
    "Image.fromarray(X[3])"
   ]
  },
  {
   "cell_type": "code",
   "execution_count": 59,
   "metadata": {},
   "outputs": [
    {
     "data": {
      "image/png": "[encoded data removed]",
      "text/plain": [
       "<PIL.Image.Image image mode=L size=32x32 at 0x1ABC2FE40B8>"
      ]
     },
     "execution_count": 59,
     "metadata": {},
     "output_type": "execute_result"
    }
   ],
   "source": [
    "gray = np.uint8(rgb2gray(X[3]) * 255)\n",
    "Image.fromarray(gray)"
   ]
  }
 ],
 "metadata": {
  "kernelspec": {
   "display_name": "Python 3",
   "language": "python",
   "name": "python3"
  },
  "language_info": {
   "codemirror_mode": {
    "name": "ipython",
    "version": 3
   },
   "file_extension": ".py",
   "mimetype": "text/x-python",
   "name": "python",
   "nbconvert_exporter": "python",
   "pygments_lexer": "ipython3",
   "version": "3.6.3"
  }
 },
 "nbformat": 4,
 "nbformat_minor": 2
}
